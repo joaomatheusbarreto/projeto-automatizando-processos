{
 "cells": [
  {
   "cell_type": "markdown",
   "id": "d3cd2a00",
   "metadata": {},
   "source": [
    "   ## Automatização de Processos"
   ]
  },
  {
   "cell_type": "markdown",
   "id": "e96552c9",
   "metadata": {},
   "source": [
    "### Problema passo a passo\n",
    "- Passo 1: Buscar informações das ações de forma automática.\n",
    "- Passo 2: Criar as análises dos dados.\n",
    "- Passo 3: Enviar um e-mail para o gestor com o resultado das análises."
   ]
  },
  {
   "cell_type": "markdown",
   "id": "51d448ca",
   "metadata": {},
   "source": [
    "## Passo 1: Buscar informações de forma automática:"
   ]
  },
  {
   "cell_type": "code",
   "execution_count": null,
   "id": "931eaaa2",
   "metadata": {},
   "outputs": [],
   "source": [
    "!pip install yfinance"
   ]
  },
  {
   "cell_type": "code",
   "execution_count": null,
   "id": "10945312",
   "metadata": {},
   "outputs": [],
   "source": [
    "import yfinance as yf"
   ]
  },
  {
   "cell_type": "code",
   "execution_count": 5,
   "id": "b6499d92",
   "metadata": {},
   "outputs": [
    {
     "name": "stdout",
     "output_type": "stream",
     "text": [
      "Digite a ação desejada: PETR4.SA\n"
     ]
    }
   ],
   "source": [
    "ticker = input(\"Digite a ação desejada: \")\n",
    "dados = yf.Ticker(ticker).history(\"6mo\")"
   ]
  },
  {
   "cell_type": "code",
   "execution_count": null,
   "id": "4f4bbab0",
   "metadata": {},
   "outputs": [],
   "source": [
    "dados"
   ]
  },
  {
   "cell_type": "code",
   "execution_count": 11,
   "id": "493d75f5",
   "metadata": {},
   "outputs": [],
   "source": [
    "fechamento = dados.Close\n",
    "abertura = dados.Open\n",
    "maxima = dados.High\n",
    "minima = dados.Low"
   ]
  },
  {
   "cell_type": "code",
   "execution_count": null,
   "id": "23015b28",
   "metadata": {},
   "outputs": [],
   "source": [
    "maxima.plot()"
   ]
  },
  {
   "cell_type": "markdown",
   "id": "574ef740",
   "metadata": {},
   "source": [
    "## Passo 2: Criar as análises dos dados:\n",
    "- Cotação máxima\n",
    "- Cotação mínima\n",
    "- Cotação atual"
   ]
  },
  {
   "cell_type": "code",
   "execution_count": 13,
   "id": "e91cae6f",
   "metadata": {},
   "outputs": [],
   "source": [
    "cotacao_max = round(fechamento.max(),2)\n",
    "cotacao_min = round(fechamento.min(),2)\n",
    "atual = round(fechamento[-1],2)"
   ]
  },
  {
   "cell_type": "code",
   "execution_count": 14,
   "id": "8d990cb9",
   "metadata": {},
   "outputs": [
    {
     "name": "stdout",
     "output_type": "stream",
     "text": [
      "A cotação máxima é: R$31.85\n",
      "A cotação mínima é: R$19.04\n",
      "A cotação atual é de: R$30.57\n"
     ]
    }
   ],
   "source": [
    "print(f\"A cotação máxima é: R${cotacao_max}\")\n",
    "print(f\"A cotação mínima é: R${cotacao_min}\")\n",
    "print(f\"A cotação atual é de: R${atual}\")\n"
   ]
  },
  {
   "cell_type": "markdown",
   "id": "130c1c2c",
   "metadata": {},
   "source": [
    "## Passo 3: Enviar um e-mail para o gestor com o resultado das análises.\n",
    "- Abrir uma nova aba (CRTL + T)\n",
    "- Digitar o endereço do Gmail e dar um Enter.\n",
    "- Clicar no botão \"Escrever\".\n",
    "- Digitar o destinatário, Tab.\n",
    "- Digitar o assunto, Tab. \n",
    "- Digitar a mensagem do e-mail.\n",
    "- Clicar em enviar.\n"
   ]
  },
  {
   "cell_type": "code",
   "execution_count": null,
   "id": "fa8120b6",
   "metadata": {},
   "outputs": [],
   "source": [
    "!pip install pyautogui"
   ]
  },
  {
   "cell_type": "code",
   "execution_count": null,
   "id": "57d7944e",
   "metadata": {},
   "outputs": [],
   "source": [
    "!pip install pyperclip"
   ]
  },
  {
   "cell_type": "code",
   "execution_count": 7,
   "id": "dcad6df1",
   "metadata": {},
   "outputs": [],
   "source": [
    "import pyautogui \n",
    "import pyperclip "
   ]
  },
  {
   "cell_type": "code",
   "execution_count": 18,
   "id": "e4c91faf",
   "metadata": {},
   "outputs": [],
   "source": [
    "# pause de 1 segundo\n",
    "pyautogui.PAUSE = 1\n",
    "\n",
    "# abrir uma nova aba(CRTL + T)\n",
    "pyautogui.hotkey(\"ctrl\",\"t\")\n",
    "\n",
    "# Digitar o endereço do Gmail e dar um Enter.\n",
    "pyperclip.copy(\"www.gmail.com\")\n",
    "pyautogui.hotkey(\"ctrl\",\"v\")\n",
    "pyautogui.hotkey(\"enter\")\n",
    "\n",
    "# Clicar no botão \"Escrever\".\n",
    "pyautogui.click(x=110, y=213)\n",
    "\n",
    "#Digitar o destinatário, Tab.\n",
    "pyautogui.click(x=1205, y=425)\n",
    "pyperclip.copy(\"joaomatheusbarreto@outlook.com\")\n",
    "pyautogui.hotkey(\"ctrl\",\"v\")\n",
    "pyautogui.hotkey(\"tab\")\n",
    "\n",
    "#Digitar o assunto, Tab.\n",
    "pyperclip.copy(\"Análises diárias\")\n",
    "pyautogui.hotkey(\"ctrl\",\"v\")\n",
    "pyautogui.hotkey(\"tab\")\n",
    "\n",
    "#Digitar a mensagem do e-mail.\n",
    "mensagem = f\"\"\"\n",
    "Caro, gestor\n",
    "\n",
    "Seguem as análises da ação {ticker} dos últimos 6 meses, conforme solicitado.\n",
    "\n",
    "Cotação máxima: R${cotacao_max}\n",
    "Cotação mínima: R${cotacao_min}\n",
    "Cotação atual: R${atual}\n",
    "\n",
    "Qualquer dúvida estou à disposição.\n",
    "\n",
    "Att,\n",
    "\n",
    "João Matheus.\n",
    "\n",
    "\"\"\"\n",
    "pyperclip.copy(mensagem)\n",
    "pyautogui.hotkey(\"ctrl\",\"v\")\n",
    "\n",
    "# Clicar em enviar.\n",
    "pyautogui.click(x=1186,y=964)"
   ]
  },
  {
   "cell_type": "code",
   "execution_count": 16,
   "id": "14806402",
   "metadata": {},
   "outputs": [
    {
     "data": {
      "text/plain": [
       "Point(x=502, y=320)"
      ]
     },
     "execution_count": 16,
     "metadata": {},
     "output_type": "execute_result"
    }
   ],
   "source": [
    "# Para descobrir a posição do mouse e saber aonde clicar\n",
    "import time\n",
    "\n",
    "time.sleep(5)\n",
    "\n",
    "pyautogui.position()"
   ]
  },
  {
   "cell_type": "code",
   "execution_count": null,
   "id": "1b903490",
   "metadata": {},
   "outputs": [],
   "source": []
  },
  {
   "cell_type": "code",
   "execution_count": null,
   "id": "2048ffb9",
   "metadata": {},
   "outputs": [],
   "source": []
  }
 ],
 "metadata": {
  "kernelspec": {
   "display_name": "Python 3 (ipykernel)",
   "language": "python",
   "name": "python3"
  },
  "language_info": {
   "codemirror_mode": {
    "name": "ipython",
    "version": 3
   },
   "file_extension": ".py",
   "mimetype": "text/x-python",
   "name": "python",
   "nbconvert_exporter": "python",
   "pygments_lexer": "ipython3",
   "version": "3.11.3"
  }
 },
 "nbformat": 4,
 "nbformat_minor": 5
}
